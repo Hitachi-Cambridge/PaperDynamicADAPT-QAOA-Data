{
 "cells": [
  {
   "attachments": {},
   "cell_type": "markdown",
   "metadata": {},
   "source": [
    "## Quantum Approximate Optimisation Algorithm in Python\n",
    "\n",
    "This notebook demostrates how the package in this repository can be used to solve quadratic unconstrained binary optimisation (QUBO) problems, expressed in the context of the max-cut problem from graph theory, using a quantum algorithm.\n",
    "\n",
    "We start by first defining the graph using the $\\texttt{networkx}$ package in Python. In this example we will be considering a quite simple complete graph with 4 vertices, where the weights of each edge are\n",
    "uniformly distributed between 0 and 1."
   ]
  },
  {
   "cell_type": "code",
   "execution_count": 1,
   "metadata": {},
   "outputs": [],
   "source": [
    "import networkx as nx\n",
    "from src_code import get_data\n",
    "import random\n",
    "\n",
    "def generate_graph(n, seed=1):\n",
    "\n",
    "    graph = nx.Graph()\n",
    "    edge_list = []\n",
    "    for n_1 in range(n):\n",
    "\n",
    "        for n_2 in range(n_1+1, n):\n",
    "\n",
    "            edge_list.append((n_1, n_2))\n",
    "            \n",
    "    graph.add_edges_from(edge_list)\n",
    "\n",
    "    random.seed(seed)\n",
    "    weights = [random.random() for i in range(len(edge_list))]\n",
    "\n",
    "    for index, edge in enumerate(graph.edges()):\n",
    "        graph.get_edge_data(*edge)['weight'] = weights[index]\n",
    "\n",
    "    return graph, weights"
   ]
  },
  {
   "cell_type": "code",
   "execution_count": 2,
   "metadata": {},
   "outputs": [
    {
     "data": {
      "image/png": "[encoded data removed]",
      "text/plain": [
       "<Figure size 640x480 with 1 Axes>"
      ]
     },
     "metadata": {},
     "output_type": "display_data"
    }
   ],
   "source": [
    "no_vertices = 4\n",
    "graph = generate_graph(no_vertices)[0]\n",
    "pos=nx.circular_layout(graph)\n",
    "nx.draw_networkx(graph, pos)\n",
    "labels = nx.get_edge_attributes(graph,'weight')\n",
    "for edge in labels:\n",
    "    labels[edge] = round(labels[edge], 3)\n",
    "tmp = nx.draw_networkx_edge_labels(graph, pos, edge_labels=labels)"
   ]
  },
  {
   "attachments": {},
   "cell_type": "markdown",
   "metadata": {},
   "source": [
    "Once we have generated the graph, we can define the Ising Hamiltonian whose maximum energy eigenstate corresponds to the solution to the problem. This is given by $$\\hat{H}_C=-\\frac{1}{4}\\sum_{i,j=0}^{n-1}W_{ij}\\hat{Z}_i\\hat{Z}_j.$$ It should be noted that the eigenvalues of this Hamiltonian are not exactly equal to the values of their corresponding cuts. They differ by a constant term $A = \\frac{1}{4}\\sum_{i,j=0}^{n-1}W_{ij}$, which is removed as it doesn't influence to the operation of the algorithm. It is later added back in to generate correct results. Additionally, we can define all the commutators $$\\left[\\hat{H}_C,-i\\hat{A}\\right]\\quad\\forall \\quad\\hat{A}\\in\\mathcal{P}.$$ These are used to find the gradients in parameter space at each iteration which are used to determine which mixer operator from the pool $\\mathcal{P}$ to be added to the ADAPT-QAOA circuit in the current layer."
   ]
  },
  {
   "cell_type": "code",
   "execution_count": 3,
   "metadata": {},
   "outputs": [],
   "source": [
    "from src_code import build_operators\n",
    "\n",
    "hamiltonian = build_operators.cut_hamiltonian(graph=graph)\n",
    "gradient_ops_dict = build_operators.build_all_mixers(graph=graph)"
   ]
  },
  {
   "attachments": {},
   "cell_type": "markdown",
   "metadata": {},
   "source": [
    "In order to make the generation of the unitaries in the ansatz quicker between iterations of both the overall algorithm and the classical optimsation scheme, it is useful to pre-compute all the Pauli strings appearing in the exponents of the unitaries. This then allows one to use the identity $$e^{i\\alpha\\hat{P}}=\\cos(\\alpha)\\hat{I}+i\\sin(\\alpha)\\hat{P}$$ for single Pauli strings, to find the unitaries using simple floating point arithmetic, rather than matrix exponentiation during each iteration."
   ]
  },
  {
   "cell_type": "code",
   "execution_count": 4,
   "metadata": {},
   "outputs": [],
   "source": [
    "pauli_ops_dict = build_operators.build_all_paulis(no_vertices)"
   ]
  },
  {
   "attachments": {},
   "cell_type": "markdown",
   "metadata": {},
   "source": [
    "All this pre-computation allows for significant speed-up in the execution of the algorithms. We now move on to actually running QAOA on the graph. We first perform the standard non-adaptive algorithm. To do so we require to pick a specific depth for the circuit, i.e., the number of layers it will contain. We set this to 5."
   ]
  },
  {
   "cell_type": "code",
   "execution_count": 5,
   "metadata": {},
   "outputs": [],
   "source": [
    "circuit_depth = 5\n",
    "qaoa_solution = get_data.run_standard_qaoa(graph, depth=circuit_depth, pauli_ops_dict=pauli_ops_dict)"
   ]
  },
  {
   "cell_type": "code",
   "execution_count": 6,
   "metadata": {},
   "outputs": [
    {
     "name": "stdout",
     "output_type": "stream",
     "text": [
      "cut_approx_ratio: 0.9805284717101109\n",
      "ham_approx_ratio: 0.9482678899222821\n",
      "optimised_Hamiltonian_unitary_parameters: [0.7931514839526632, 2.1173073485387595, -4.213286278033324, 0.7490343902763097, 3.2165223188051044]\n",
      "optimised_mixer_unitary_parameters: [-0.9789510758915931, 0.399787024540148, 0.5277587179527183, 0.8544189648460756, -0.1308012783386997]\n"
     ]
    }
   ],
   "source": [
    "for key in qaoa_solution:\n",
    "    print(key+':', qaoa_solution[key])"
   ]
  },
  {
   "attachments": {},
   "cell_type": "markdown",
   "metadata": {},
   "source": [
    "We now move on the ADAPT-QAOA. We use the same maximum depth of 5 as above."
   ]
  },
  {
   "cell_type": "code",
   "execution_count": 7,
   "metadata": {},
   "outputs": [
    {
     "name": "stdout",
     "output_type": "stream",
     "text": [
      "Initial Cut Approximation Ratio: 0.6236084656002482 \n",
      "\n",
      "Finding Best Mixer for layer 1...\n",
      "\tBest mixer is Y2Z0 with gradient magnitude 0.8473693563043923\n",
      "\n",
      "Optimising layer 1...\n",
      "\tInitial Parameter Guesses: [0.0, 0.01]\n",
      "\tOptimisation completed wih following outcome:\n",
      "\t\tNumber of iterations performed: 3\n",
      "\t\tNumber of expectation evaluations performed: 12\n",
      "\t\tSuccess: True\n",
      "\t\tOptimiser message: Optimization terminated successfully.\n",
      "\tOptimised mixer unitary parameters: 0.785\n",
      "\tOptimised Hamiltonian unitary parameters: 0.00222\n",
      "\n",
      "Current Cut Approximation Ratio: 0.8030186538807507\n",
      "\n",
      "\n",
      "Finding Best Mixer for layer 2...\n",
      "\tBest mixer is Y1Z3 with gradient magnitude 0.4954255357867733\n",
      "\n",
      "Optimising layer 2...\n",
      "\tInitial Parameter Guesses: [0.7853871460338431, 0.0, 0.0022222314500241255, 0.01]\n",
      "\tOptimisation completed wih following outcome:\n",
      "\t\tNumber of iterations performed: 2\n",
      "\t\tNumber of expectation evaluations performed: 20\n",
      "\t\tSuccess: True\n",
      "\t\tOptimiser message: Optimization terminated successfully.\n",
      "\tOptimised mixer unitary parameters: 0.785, 0.785\n",
      "\tOptimised Hamiltonian unitary parameters: -0.000216, 0.00932\n",
      "\n",
      "Current Cut Approximation Ratio: 0.9079069189918223\n",
      "\n",
      "\n",
      "Finding Best Mixer for layer 3...\n",
      "\tBest mixer is standard_x with gradient magnitude 0.003864719165316691\n",
      "\n",
      "Optimising layer 3...\n",
      "\tInitial Parameter Guesses: [0.7853924733467833, 0.7847657675772739, 0.0, -0.00021635565700148175, 0.009321633774644063, 0.01]\n",
      "\tOptimisation completed wih following outcome:\n",
      "\t\tNumber of iterations performed: 14\n",
      "\t\tNumber of expectation evaluations performed: 112\n",
      "\t\tSuccess: True\n",
      "\t\tOptimiser message: Optimization terminated successfully.\n",
      "\tOptimised mixer unitary parameters: 0.785, 0.785, -2.13e-05\n",
      "\tOptimised Hamiltonian unitary parameters: -8.39e-05, -7.29e-05, 0.00999\n",
      "\n",
      "Current Cut Approximation Ratio: 0.9079082780462698\n",
      "\n",
      "\n",
      "Finding Best Mixer for layer 4...\n",
      "\tBest mixer is Y0Y2 with gradient magnitude 0.003745266036927876\n",
      "\n",
      "Optimising layer 4...\n",
      "\tInitial Parameter Guesses: [0.7853986010207089, 0.7853926076505707, -2.1271745127874007e-05, 0.0, -8.392345893377243e-05, -7.290891119566784e-05, 0.009994000296069562, 0.01]\n",
      "\tOptimisation completed wih following outcome:\n",
      "\t\tNumber of iterations performed: 25\n",
      "\t\tNumber of expectation evaluations performed: 306\n",
      "\t\tSuccess: True\n",
      "\t\tOptimiser message: Optimization terminated successfully.\n",
      "\tOptimised mixer unitary parameters: 0.785, 0.785, -2.73e-06, 0.785\n",
      "\tOptimised Hamiltonian unitary parameters: -6.59e-06, -2.77e-05, 1.3, 2.31\n",
      "\n",
      "Current Cut Approximation Ratio: 0.9999999999870586\n",
      "\n",
      "\n",
      "Finding Best Mixer for layer 5...\n",
      "\tBest mixer is standard_x with gradient magnitude 9.301481048106168e-06\n",
      "\n",
      "Optimising layer 5...\n",
      "\tInitial Parameter Guesses: [0.7854040145581909, 0.785402059325676, -2.725795108440622e-06, 0.7853963628147671, 0.0, -6.590056557513609e-06, -2.7735915385943645e-05, 1.3047787149913985, 2.306373011015604, 0.01]\n",
      "\tOptimisation completed wih following outcome:\n",
      "\t\tNumber of iterations performed: 18\n",
      "\t\tNumber of expectation evaluations performed: 231\n",
      "\t\tSuccess: True\n",
      "\t\tOptimiser message: Optimization terminated successfully.\n",
      "\tOptimised mixer unitary parameters: 0.785, 0.785, -2.34e-07, 0.785, -1.87e-07\n",
      "\tOptimised Hamiltonian unitary parameters: -2.57e-07, -1.44e-06, 1.3, 2.31, 0.01\n",
      "\n",
      "Current Cut Approximation Ratio: 0.9999999999999878\n",
      "\n",
      "\n"
     ]
    }
   ],
   "source": [
    "adapt_qaoa_solution = get_data.run_adapt_qaoa(graph, pauli_ops_dict, gradient_ops_dict, circuit_depth)"
   ]
  },
  {
   "cell_type": "code",
   "execution_count": 8,
   "metadata": {},
   "outputs": [
    {
     "name": "stdout",
     "output_type": "stream",
     "text": [
      "cut_approx_ratios: [0.6236084656002482, 0.8030186538807507, 0.9079069189918223, 0.9079082780462698, 0.9999999999870586, 0.9999999999999878]\n",
      "ham_approx_ratios: [3.122362835725594e-17, 0.4766584045696347, 0.7553263753526164, 0.7553299860992015, 0.9999999999656172, 0.9999999999999676]\n",
      "best_mixers: ['Y2Z0', 'Y1Z3', 'standard_x', 'Y0Y2', 'standard_x']\n",
      "best_mixer_parameters: [0.7853984724957696, 0.785398679685626, -2.3395078309379136e-07, 0.7853981493454144, -1.8735753881734605e-07]\n",
      "best_ham_parameters: [-2.570346614342968e-07, -1.4388823323845453e-06, 1.3047650266991344, 2.3063592311491665, 0.010000642135905678]\n"
     ]
    }
   ],
   "source": [
    "for key in adapt_qaoa_solution:\n",
    "    if key == 'all_mixers':\n",
    "        continue\n",
    "    print(key+':', adapt_qaoa_solution[key])"
   ]
  },
  {
   "attachments": {},
   "cell_type": "markdown",
   "metadata": {},
   "source": [
    "Finally, we solve the problem using the Dynamic ADAPT-QAOA which determines at each layer whether it is beneficial to the classical optimisation to include a Hamiltonian unitary or not. To do this, it is useful to generate a dictionary containing splits of each mixer operator into two operators, one which commutes with the Hamiltonian, and one which anti-commutes with it. This is possible for all mixers which are single Pauli strings."
   ]
  },
  {
   "cell_type": "code",
   "execution_count": 9,
   "metadata": {},
   "outputs": [],
   "source": [
    "pauli_mixers_split_ops_dict = build_operators.split_all_mixers(graph)"
   ]
  },
  {
   "cell_type": "code",
   "execution_count": 10,
   "metadata": {},
   "outputs": [
    {
     "name": "stdout",
     "output_type": "stream",
     "text": [
      "Initial Cut Approximation Ratio: 0.6236084656002482 \n",
      "\n",
      "Finding Best Mixer for layer 1...\n",
      "\tThe best mixer for layer 1 with no Hamiltonian unitary is Y2Z0 with a gradient of 0.8474337369372327\n",
      "\t<iMH_a> = 0.42371686846861634\n",
      "\t<MH_a^2> = 0\n",
      "\t<iMH_a^3> = 0.16095427756252523\n",
      "\tA maximum occurs when using no Hamiltonian unitary so we remove it for this layer!\n",
      "\n",
      "Optimising layer 1...\n",
      "\tInitial Parameter Guesses: [0.0]\n",
      "\tOptimisation completed wih following outcome:\n",
      "\t\tNumber of iterations performed: 3\n",
      "\t\tNumber of expectation evaluations performed: 8\n",
      "\t\tSuccess: True\n",
      "\t\tOptimiser message: Optimization terminated successfully.\n",
      "\tOptimised mixer unitary parameters: 0.785\n",
      "\tOptimised Hamiltonian unitary parameters\n",
      "\n",
      "Current Cut Approximation Ratio: 0.8030193264617695\n",
      "\n",
      "\n",
      "Finding Best Mixer for layer 2...\n",
      "\tThe best mixer for layer 2 with no Hamiltonian unitary is Y3Z1 with a gradient of 0.495435087091941\n",
      "\t<iMH_a> = 0.2477175435459705\n",
      "\t<MH_a^2> = 0\n",
      "\t<iMH_a^3> = 0.03355200293918671\n",
      "\tA maximum occurs when using no Hamiltonian unitary so we remove it for this layer!\n",
      "\n",
      "Optimising layer 2...\n",
      "\tInitial Parameter Guesses: [0.7854379823793136, 0.0]\n",
      "\tOptimisation completed wih following outcome:\n",
      "\t\tNumber of iterations performed: 2\n",
      "\t\tNumber of expectation evaluations performed: 12\n",
      "\t\tSuccess: True\n",
      "\t\tOptimiser message: Optimization terminated successfully.\n",
      "\tOptimised mixer unitary parameters: 0.785, 0.785\n",
      "\tOptimised Hamiltonian unitary parameters\n",
      "\n",
      "Current Cut Approximation Ratio: 0.9079081933439633\n",
      "\n",
      "\n",
      "Finding Best Mixer for layer 3...\n",
      "\tThe best mixer for layer 3 with no Hamiltonian unitary is Y1Z3 with a gradient of 0.0006291199867483291\n",
      "\t<iMH_a> = 0.00031455999337416456\n",
      "\t<MH_a^2> = 0\n",
      "\t<iMH_a^3> = 2.273992400520244e-05\n",
      "\tA maximum occurs when using no Hamiltonian unitary so we remove it for this layer!\n",
      "\n",
      "Optimising layer 3...\n",
      "\tInitial Parameter Guesses: [0.7854204767212328, 0.7847632465615064, 0.0]\n",
      "\tOptimisation completed wih following outcome:\n",
      "\t\tNumber of iterations performed: 1\n",
      "\t\tNumber of expectation evaluations performed: 12\n",
      "\t\tSuccess: True\n",
      "\t\tOptimiser message: Optimization terminated successfully.\n",
      "\tOptimised mixer unitary parameters: 0.785, 0.785, 0.000318\n",
      "\tOptimised Hamiltonian unitary parameters\n",
      "\n",
      "Current Cut Approximation Ratio: 0.9079082780844338\n",
      "\n",
      "\n",
      "Finding Best Mixer for layer 4...\n",
      "\tThe best mixer for layer 4 with no Hamiltonian unitary is Y2Z0 with a gradient of 5.445724672722728e-06\n",
      "\t<iMH_a> = -2.722862336361364e-06\n",
      "\t<MH_a^2> = 0\n",
      "\t<iMH_a^3> = -5.660447733474943e-07\n",
      "\tIt is unclear whether a maximum occurs when using no Hamiltonian unitary so we will add it to the layer!\n",
      "\tThe new best mixer for layer 4 with a Hamiltonian unitary is X1X3 with a gradient of 0.01891551875111855\n",
      "\n",
      "Optimising layer 4...\n",
      "\tInitial Parameter Guesses: [0.785401376465583, 0.7850807793801826, 0.00031754033994240766, 0.0, 0.1]\n",
      "\tOptimisation completed wih following outcome:\n",
      "\t\tNumber of iterations performed: 12\n",
      "\t\tNumber of expectation evaluations performed: 102\n",
      "\t\tSuccess: True\n",
      "\t\tOptimiser message: Optimization terminated successfully.\n",
      "\tOptimised mixer unitary parameters: 0.785, 0.785, 0.000305, 0.785\n",
      "\tOptimised Hamiltonian unitary parameters: 3.61\n",
      "\n",
      "Current Cut Approximation Ratio: 0.9999999987211906\n",
      "\n",
      "\n",
      "Finding Best Mixer for layer 5...\n",
      "\tThe best mixer for layer 5 with no Hamiltonian unitary is Y0Z2 with a gradient of 9.740489280229506e-05\n",
      "\t<iMH_a> = -4.870244640114753e-05\n",
      "\t<MH_a^2> = -2.9330929059544557e-06\n",
      "\t<iMH_a^3> = -2.6555808257864635e-05\n",
      "\tIt is unclear whether a maximum occurs when using no Hamiltonian unitary so we will add it to the layer!\n",
      "\tThe new best mixer for layer 5 with a Hamiltonian unitary is Y0Z2 with a gradient of 9.751356669427477e-05\n",
      "\n",
      "Optimising layer 5...\n",
      "\tInitial Parameter Guesses: [0.785449395718875, 0.7850686661993893, 0.0003054218504617497, 0.785395783766143, 0.0, 3.611157524438546, 0.1]\n",
      "\tOptimisation completed wih following outcome:\n",
      "\t\tNumber of iterations performed: 5\n",
      "\t\tNumber of expectation evaluations performed: 64\n",
      "\t\tSuccess: True\n",
      "\t\tOptimiser message: Optimization terminated successfully.\n",
      "\tOptimised mixer unitary parameters: 0.785, 0.785, 0.000317, 0.785, 6.66e-07\n",
      "\tOptimised Hamiltonian unitary parameters: 3.61, 0.1\n",
      "\n",
      "Current Cut Approximation Ratio: 0.9999999999950975\n",
      "\n",
      "\n",
      "Finding Best Mixer for layer 6...\n",
      "\tThe best mixer for layer 6 with no Hamiltonian unitary is Y2Z3 with a gradient of 8.373586321745296e-07\n",
      "\t<iMH_a> = 4.186793160872648e-07\n",
      "\t<MH_a^2> = 0\n",
      "\t<iMH_a^3> = 4.46338653671473e-08\n",
      "\tIt is unclear whether a maximum occurs when using no Hamiltonian unitary so we will add it to the layer!\n",
      "\tThe new best mixer for layer 6 with a Hamiltonian unitary is Y2Z3 with a gradient of 8.364529151829809e-07\n",
      "\n",
      "Optimising layer 6...\n",
      "\tInitial Parameter Guesses: [0.7853973235252876, 0.7850806258152173, 0.0003172306908808637, 0.7853978767354857, 6.659265317373806e-07, 0.0, 3.611146186029409, 0.09999999589423521, 0.1]\n",
      "\tOptimisation completed wih following outcome:\n",
      "\t\tNumber of iterations performed: 11\n",
      "\t\tNumber of expectation evaluations performed: 330\n",
      "\t\tSuccess: False\n",
      "\t\tOptimiser message: Desired error not necessarily achieved due to precision loss.\n",
      "\tOptimised mixer unitary parameters: 0.785, 0.785, 0.000317, 0.785, 2.98e-07, 3.68e-07\n",
      "\tOptimised Hamiltonian unitary parameters: 3.61, 0.1, 0.1\n",
      "\n",
      "Current Cut Approximation Ratio: 0.9999999999999997\n",
      "\n",
      "\n",
      "Finding Best Mixer for layer 7...\n",
      "\tThe best mixer for layer 7 with no Hamiltonian unitary is X0 with a gradient of 6.325166307593683e-08\n",
      "\t<iMH_a> = 3.1625831537968416e-08\n",
      "\t<MH_a^2> = 0\n",
      "\t<iMH_a^3> = 1.7244526547188678e-08\n",
      "\tIt is unclear whether a maximum occurs when using no Hamiltonian unitary so we will add it to the layer!\n",
      "\tThe new best mixer for layer 7 with a Hamiltonian unitary is X0 with a gradient of 6.503345266973577e-08\n",
      "\n",
      "Optimising layer 7...\n",
      "\tInitial Parameter Guesses: [0.7853976877385628, 0.7850807180362124, 0.0003174416682719049, 0.7853981532654045, 2.9773712955369716e-07, 3.6753508145142633e-07, 0.0, 3.611122730634621, 0.10000007841559558, 0.10000015661664523, 0.1]\n",
      "\tOptimisation completed wih following outcome:\n",
      "\t\tNumber of iterations performed: 2\n",
      "\t\tNumber of expectation evaluations performed: 1192\n",
      "\t\tSuccess: False\n",
      "\t\tOptimiser message: Desired error not necessarily achieved due to precision loss.\n",
      "\tOptimised mixer unitary parameters: 0.785, 0.785, 0.000317, 0.785, 2.98e-07, 3.62e-07, 8.86e-09\n",
      "\tOptimised Hamiltonian unitary parameters: 3.61, 0.1, 0.1, 0.1\n",
      "\n",
      "Current Cut Approximation Ratio: 0.9999999999999998\n",
      "\n",
      "\n",
      "Finding Best Mixer for layer 8...\n",
      "\tThe best mixer for layer 8 with no Hamiltonian unitary is standard_x with a gradient of 4.654817186338175e-08\n",
      "\n",
      "Optimising layer 8...\n",
      "\tInitial Parameter Guesses: [0.7853976818541496, 0.7850807121450754, 0.0003174343144363121, 0.7853981517959822, 2.9775057714269313e-07, 3.61617049245837e-07, 8.86360071938804e-09, 0.0, 3.6111227335936373, 0.10000007544985569, 0.1000001551136039, 0.09999999851040627, 0.1]\n",
      "\tOptimisation completed wih following outcome:\n",
      "\t\tNumber of iterations performed: 1\n",
      "\t\tNumber of expectation evaluations performed: 504\n",
      "\t\tSuccess: False\n",
      "\t\tOptimiser message: Desired error not necessarily achieved due to precision loss.\n",
      "\tOptimised mixer unitary parameters: 0.785, 0.785, 0.000317, 0.785, 2.98e-07, 3.62e-07, 8.86e-09, -1.01e-16\n",
      "\tOptimised Hamiltonian unitary parameters: 3.61, 0.1, 0.1, 0.1, 0.1\n",
      "\n",
      "Current Cut Approximation Ratio: 1.0\n",
      "\n",
      "\n",
      "Finding Best Mixer for layer 9...\n",
      "\tThe best mixer for layer 9 with no Hamiltonian unitary is X0 with a gradient of 4.496009989013061e-08\n",
      "\t<iMH_a> = 2.2480049945065304e-08\n",
      "\t<MH_a^2> = 0\n",
      "\t<iMH_a^3> = 1.2257632427164878e-08\n",
      "\tIt is unclear whether a maximum occurs when using no Hamiltonian unitary so we will add it to the layer!\n",
      "\tThe new best mixer for layer 9 with a Hamiltonian unitary is standard_x with a gradient of 4.730810450081255e-08\n",
      "\n",
      "Optimising layer 9...\n",
      "\tInitial Parameter Guesses: [0.7853976818541502, 0.7850807121450756, 0.00031743431443651427, 0.7853981517959822, 2.977505774459122e-07, 3.61617049245837e-07, 8.863600820461063e-09, -1.0107302221511265e-16, 0.0, 3.6111227335936373, 0.10000007544985559, 0.10000015511360369, 0.09999999851040647, 0.1, 0.1]\n",
      "\tOptimisation completed wih following outcome:\n",
      "\t\tNumber of iterations performed: 1\n",
      "\t\tNumber of expectation evaluations performed: 1052\n",
      "\t\tSuccess: False\n",
      "\t\tOptimiser message: Desired error not necessarily achieved due to precision loss.\n",
      "\tOptimised mixer unitary parameters: 0.785, 0.785, 0.000317, 0.785, 2.98e-07, 3.62e-07, 8.86e-09, -1.52e-16, -5.12e-17\n",
      "\tOptimised Hamiltonian unitary parameters: 3.61, 0.1, 0.1, 0.1, 0.1, 0.1\n",
      "\n",
      "Current Cut Approximation Ratio: 1.0000000000000002\n",
      "\n",
      "\n",
      "Finding Best Mixer for layer 10...\n",
      "\tThe best mixer for layer 10 with no Hamiltonian unitary is X0 with a gradient of 4.612834456342704e-08\n",
      "\t<iMH_a> = 2.306417228171352e-08\n",
      "\t<MH_a^2> = 0\n",
      "\t<iMH_a^3> = 1.257613513976482e-08\n",
      "\tIt is unclear whether a maximum occurs when using no Hamiltonian unitary so we will add it to the layer!\n",
      "\tThe new best mixer for layer 10 with a Hamiltonian unitary is standard_x with a gradient of 4.743022166276481e-08\n",
      "\n",
      "Optimising layer 10...\n",
      "\tInitial Parameter Guesses: [0.7853976818541502, 0.7850807121450758, 0.00031743431443661657, 0.7853981517959823, 2.977505775993731e-07, 3.61617049245837e-07, 8.863600871614698e-09, -1.5222665745669274e-16, -5.1153635241580075e-17, 0.0, 3.6111227335936373, 0.10000007544985565, 0.10000015511360348, 0.09999999851040668, 0.09999999999999995, 0.09999999999999995, -0.1]\n",
      "\tOptimisation completed wih following outcome:\n",
      "\t\tNumber of iterations performed: 1\n",
      "\t\tNumber of expectation evaluations performed: 198\n",
      "\t\tSuccess: False\n",
      "\t\tOptimiser message: Desired error not necessarily achieved due to precision loss.\n",
      "\tOptimised mixer unitary parameters: 0.785, 0.785, 0.000317, 0.785, 2.98e-07, 3.62e-07, 8.86e-09, -1.57e-14, -1.04e-14, -1.04e-14\n",
      "\tOptimised Hamiltonian unitary parameters: 3.61, 0.1, 0.1, 0.1, 0.1, 0.1, -0.1\n",
      "\n",
      "Current Cut Approximation Ratio: 1.0000000000000004\n",
      "\n",
      "\n",
      "Finding Best Mixer for layer 11...\n",
      "\tThe best mixer for layer 11 with no Hamiltonian unitary is X0 with a gradient of 4.496017350184331e-08\n",
      "\t<iMH_a> = 2.2480086750921655e-08\n",
      "\t<MH_a^2> = 0\n",
      "\t<iMH_a^3> = 1.225765249618853e-08\n",
      "\tIt is unclear whether a maximum occurs when using no Hamiltonian unitary so we will add it to the layer!\n",
      "\tThe new best mixer for layer 11 with a Hamiltonian unitary is standard_x with a gradient of 4.730830885652042e-08\n",
      "\n",
      "Optimising layer 11...\n",
      "\tInitial Parameter Guesses: [0.7853976818541554, 0.785080712145081, 0.00031743431444179905, 0.7853981517959823, 2.9775058796434594e-07, 3.61617049245837e-07, 8.863606054101109e-09, -1.5699685890738327e-14, -1.0416126457429337e-14, -1.0364972822187758e-14, 0.0, 3.6111227335936373, 0.10000007544985565, 0.10000015511357757, 0.09999999851041186, 0.09999999999998958, 0.09999999999998958, -0.10000000000001037, 0.1]\n",
      "\tOptimisation completed wih following outcome:\n",
      "\t\tNumber of iterations performed: 1\n",
      "\t\tNumber of expectation evaluations performed: 1512\n",
      "\t\tSuccess: False\n",
      "\t\tOptimiser message: Desired error not necessarily achieved due to precision loss.\n",
      "\tOptimised mixer unitary parameters: 0.785, 0.785, 0.000317, 0.785, 2.98e-07, 3.62e-07, 8.86e-09, -1.57e-14, -1.04e-14, -1.04e-14, -4.93e-17\n",
      "\tOptimised Hamiltonian unitary parameters: 3.61, 0.1, 0.1, 0.1, 0.1, 0.1, -0.1, 0.1\n",
      "\n",
      "Current Cut Approximation Ratio: 1.0000000000000007\n",
      "\n",
      "\n",
      "Finding Best Mixer for layer 12...\n",
      "\tThe best mixer for layer 12 with no Hamiltonian unitary is X0 with a gradient of 4.612841302993929e-08\n",
      "\t<iMH_a> = 2.3064206514969645e-08\n",
      "\t<MH_a^2> = 0\n",
      "\t<iMH_a^3> = 1.2576153806034124e-08\n",
      "\tIt is unclear whether a maximum occurs when using no Hamiltonian unitary so we will add it to the layer!\n",
      "\tThe new best mixer for layer 12 with a Hamiltonian unitary is standard_x with a gradient of 4.743043073807185e-08\n",
      "\n",
      "Optimising layer 12...\n",
      "\tInitial Parameter Guesses: [0.7853976818541555, 0.7850807121450811, 0.00031743431444189766, 0.7853981517959824, 2.9775058808757547e-07, 3.61617049245837e-07, 8.863606078747013e-09, -1.572433179468707e-14, -1.044077236137808e-14, -1.0389618726136501e-14, -4.9291807897487606e-17, 0.0, 3.6111227335936373, 0.10000007544985565, 0.10000015511357757, 0.09999999851041183, 0.09999999999998956, 0.09999999999998956, -0.10000000000001044, 0.09999999999999998, -0.1]\n",
      "\tOptimisation completed wih following outcome:\n",
      "\t\tNumber of iterations performed: 0\n",
      "\t\tNumber of expectation evaluations performed: 1794\n",
      "\t\tSuccess: False\n",
      "\t\tOptimiser message: Desired error not necessarily achieved due to precision loss.\n",
      "\tOptimised mixer unitary parameters: 0.785, 0.785, 0.000317, 0.785, 2.98e-07, 3.62e-07, 8.86e-09, -1.57e-14, -1.04e-14, -1.04e-14, -4.93e-17, 0.0\n",
      "\tOptimised Hamiltonian unitary parameters: 3.61, 0.1, 0.1, 0.1, 0.1, 0.1, -0.1, 0.1, -0.1\n",
      "\n",
      "Current Cut Approximation Ratio: 1.0000000000000007\n",
      "\n",
      "\n"
     ]
    }
   ],
   "source": [
    "dynamic_adapt_qaoa_solution = get_data.run_dynamic_adapt_qaoa(graph, pauli_ops_dict, gradient_ops_dict, pauli_mixers_split_ops_dict, max_depth=circuit_depth)"
   ]
  },
  {
   "cell_type": "code",
   "execution_count": 11,
   "metadata": {},
   "outputs": [
    {
     "name": "stdout",
     "output_type": "stream",
     "text": [
      "cut_approx_ratios: [0.6236084656002482, 0.8030193264617695, 0.9079081933439633, 0.9079082780844338, 0.9999999987211906, 0.9999999999950975, 0.9999999999999997, 0.9999999999999998, 1.0, 1.0000000000000002, 1.0000000000000004, 1.0000000000000007, 1.0000000000000007]\n",
      "ham_approx_ratios: [3.122362835725594e-17, 0.47666019148819516, 0.7553297610614449, 0.7553299862005955, 0.9999999966024492, 0.9999999999869749, 0.9999999999999989, 0.9999999999999997, 0.9999999999999998, 1.0000000000000004, 1.0000000000000007, 1.0000000000000013, 1.0000000000000016]\n",
      "best_mixers: ['Y2Z0', 'Y3Z1', 'Y1Z3', 'X1X3', 'Y0Z2', 'Y2Z3', 'X0', 'standard_x', 'standard_x', 'standard_x', 'standard_x', 'standard_x']\n",
      "best_mixer_parameters: [0.7853976818541555, 0.7850807121450811, 0.00031743431444189766, 0.7853981517959824, 2.9775058808757547e-07, 3.61617049245837e-07, 8.863606078747013e-09, -1.572433179468707e-14, -1.044077236137808e-14, -1.0389618726136501e-14, -4.9291807897487606e-17, 0.0]\n",
      "best_ham_parameters: [3.6111227335936373, 0.10000007544985565, 0.10000015511357757, 0.09999999851041183, 0.09999999999998956, 0.09999999999998956, -0.10000000000001044, 0.09999999999999998, -0.1]\n",
      "ham_unitary_layers: [4, 5, 6, 7, 8, 9, 10, 11, 12]\n"
     ]
    }
   ],
   "source": [
    "for key in dynamic_adapt_qaoa_solution:\n",
    "    if key == 'all_mixers':\n",
    "        continue\n",
    "    print(key+':', dynamic_adapt_qaoa_solution[key])"
   ]
  },
  {
   "attachments": {},
   "cell_type": "markdown",
   "metadata": {},
   "source": [
    "Overall, we see that the three algorithm implementations converge to a good approximation ratio, with the adaptive problem-tailored ones achieving better results. The dynamic algorithm converges quicker compared to the non-dynamic version."
   ]
  }
 ],
 "metadata": {
  "kernelspec": {
   "display_name": "qiskit",
   "language": "python",
   "name": "python3"
  },
  "language_info": {
   "codemirror_mode": {
    "name": "ipython",
    "version": 3
   },
   "file_extension": ".py",
   "mimetype": "text/x-python",
   "name": "python",
   "nbconvert_exporter": "python",
   "pygments_lexer": "ipython3",
   "version": "3.10.6"
  },
  "orig_nbformat": 4
 },
 "nbformat": 4,
 "nbformat_minor": 2
}
